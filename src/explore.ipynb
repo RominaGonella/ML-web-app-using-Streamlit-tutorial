{
    "cells": [
        {
            "cell_type": "markdown",
            "metadata": {},
            "source": [
                "# ML web app using Streamlit tutorial\n",
                "\n"
            ]
        },
        {
            "cell_type": "code",
            "execution_count": 3,
            "metadata": {},
            "outputs": [
                {
                    "name": "stdout",
                    "output_type": "stream",
                    "text": [
                        "Requirement already satisfied: streamlit in /home/gitpod/.pyenv/versions/3.8.13/lib/python3.8/site-packages (1.12.0)\n",
                        "Requirement already satisfied: pandas>=0.21.0 in /home/gitpod/.pyenv/versions/3.8.13/lib/python3.8/site-packages (from streamlit) (1.4.3)\n",
                        "Requirement already satisfied: validators>=0.2 in /home/gitpod/.pyenv/versions/3.8.13/lib/python3.8/site-packages (from streamlit) (0.20.0)\n",
                        "Requirement already satisfied: pydeck>=0.1.dev5 in /home/gitpod/.pyenv/versions/3.8.13/lib/python3.8/site-packages (from streamlit) (0.7.1)\n",
                        "Requirement already satisfied: blinker>=1.0.0 in /home/gitpod/.pyenv/versions/3.8.13/lib/python3.8/site-packages (from streamlit) (1.5)\n",
                        "Requirement already satisfied: gitpython!=3.1.19 in /home/gitpod/.pyenv/versions/3.8.13/lib/python3.8/site-packages (from streamlit) (3.1.27)\n",
                        "Requirement already satisfied: altair>=3.2.0 in /home/gitpod/.pyenv/versions/3.8.13/lib/python3.8/site-packages (from streamlit) (4.2.0)\n",
                        "Requirement already satisfied: tzlocal>=1.1 in /home/gitpod/.pyenv/versions/3.8.13/lib/python3.8/site-packages (from streamlit) (4.2)\n",
                        "Requirement already satisfied: pyarrow>=4.0 in /home/gitpod/.pyenv/versions/3.8.13/lib/python3.8/site-packages (from streamlit) (9.0.0)\n",
                        "Requirement already satisfied: protobuf<4,>=3.12 in /home/gitpod/.pyenv/versions/3.8.13/lib/python3.8/site-packages (from streamlit) (3.20.1)\n",
                        "Requirement already satisfied: tornado>=5.0 in /home/gitpod/.pyenv/versions/3.8.13/lib/python3.8/site-packages (from streamlit) (6.2)\n",
                        "Requirement already satisfied: importlib-metadata>=1.4 in /home/gitpod/.pyenv/versions/3.8.13/lib/python3.8/site-packages (from streamlit) (4.12.0)\n",
                        "Requirement already satisfied: pympler>=0.9 in /home/gitpod/.pyenv/versions/3.8.13/lib/python3.8/site-packages (from streamlit) (1.0.1)\n",
                        "Requirement already satisfied: numpy in /home/gitpod/.pyenv/versions/3.8.13/lib/python3.8/site-packages (from streamlit) (1.23.1)\n",
                        "Requirement already satisfied: typing-extensions>=3.10.0.0 in /home/gitpod/.pyenv/versions/3.8.13/lib/python3.8/site-packages (from streamlit) (4.3.0)\n",
                        "Requirement already satisfied: packaging>=14.1 in /home/gitpod/.pyenv/versions/3.8.13/lib/python3.8/site-packages (from streamlit) (21.3)\n",
                        "Requirement already satisfied: watchdog in /home/gitpod/.pyenv/versions/3.8.13/lib/python3.8/site-packages (from streamlit) (2.1.9)\n",
                        "Requirement already satisfied: pillow>=6.2.0 in /home/gitpod/.pyenv/versions/3.8.13/lib/python3.8/site-packages (from streamlit) (9.2.0)\n",
                        "Requirement already satisfied: cachetools>=4.0 in /home/gitpod/.pyenv/versions/3.8.13/lib/python3.8/site-packages (from streamlit) (5.2.0)\n",
                        "Requirement already satisfied: toml in /home/gitpod/.pyenv/versions/3.8.13/lib/python3.8/site-packages (from streamlit) (0.10.2)\n",
                        "Requirement already satisfied: click>=7.0 in /home/gitpod/.pyenv/versions/3.8.13/lib/python3.8/site-packages (from streamlit) (8.1.3)\n",
                        "Requirement already satisfied: python-dateutil in /home/gitpod/.pyenv/versions/3.8.13/lib/python3.8/site-packages (from streamlit) (2.8.2)\n",
                        "Requirement already satisfied: requests>=2.4 in /home/gitpod/.pyenv/versions/3.8.13/lib/python3.8/site-packages (from streamlit) (2.28.1)\n",
                        "Requirement already satisfied: semver in /home/gitpod/.pyenv/versions/3.8.13/lib/python3.8/site-packages (from streamlit) (2.13.0)\n",
                        "Requirement already satisfied: rich>=10.11.0 in /home/gitpod/.pyenv/versions/3.8.13/lib/python3.8/site-packages (from streamlit) (12.5.1)\n",
                        "Requirement already satisfied: jinja2 in /home/gitpod/.pyenv/versions/3.8.13/lib/python3.8/site-packages (from altair>=3.2.0->streamlit) (3.1.2)\n",
                        "Requirement already satisfied: toolz in /home/gitpod/.pyenv/versions/3.8.13/lib/python3.8/site-packages (from altair>=3.2.0->streamlit) (0.12.0)\n",
                        "Requirement already satisfied: jsonschema>=3.0 in /home/gitpod/.pyenv/versions/3.8.13/lib/python3.8/site-packages (from altair>=3.2.0->streamlit) (4.7.2)\n",
                        "Requirement already satisfied: entrypoints in /home/gitpod/.pyenv/versions/3.8.13/lib/python3.8/site-packages (from altair>=3.2.0->streamlit) (0.4)\n",
                        "Requirement already satisfied: gitdb<5,>=4.0.1 in /home/gitpod/.pyenv/versions/3.8.13/lib/python3.8/site-packages (from gitpython!=3.1.19->streamlit) (4.0.9)\n",
                        "Requirement already satisfied: zipp>=0.5 in /home/gitpod/.pyenv/versions/3.8.13/lib/python3.8/site-packages (from importlib-metadata>=1.4->streamlit) (3.8.1)\n",
                        "Requirement already satisfied: pyparsing!=3.0.5,>=2.0.2 in /home/gitpod/.pyenv/versions/3.8.13/lib/python3.8/site-packages (from packaging>=14.1->streamlit) (3.0.9)\n",
                        "Requirement already satisfied: pytz>=2020.1 in /home/gitpod/.pyenv/versions/3.8.13/lib/python3.8/site-packages (from pandas>=0.21.0->streamlit) (2022.2)\n",
                        "Requirement already satisfied: ipywidgets>=7.0.0 in /home/gitpod/.pyenv/versions/3.8.13/lib/python3.8/site-packages (from pydeck>=0.1.dev5->streamlit) (7.7.1)\n",
                        "Requirement already satisfied: traitlets>=4.3.2 in /home/gitpod/.pyenv/versions/3.8.13/lib/python3.8/site-packages (from pydeck>=0.1.dev5->streamlit) (5.3.0)\n",
                        "Requirement already satisfied: ipykernel>=5.1.2 in /home/gitpod/.pyenv/versions/3.8.13/lib/python3.8/site-packages (from pydeck>=0.1.dev5->streamlit) (6.15.1)\n",
                        "Requirement already satisfied: six>=1.5 in /home/gitpod/.pyenv/versions/3.8.13/lib/python3.8/site-packages (from python-dateutil->streamlit) (1.16.0)\n",
                        "Requirement already satisfied: charset-normalizer<3,>=2 in /home/gitpod/.pyenv/versions/3.8.13/lib/python3.8/site-packages (from requests>=2.4->streamlit) (2.1.0)\n",
                        "Requirement already satisfied: certifi>=2017.4.17 in /home/gitpod/.pyenv/versions/3.8.13/lib/python3.8/site-packages (from requests>=2.4->streamlit) (2022.6.15)\n",
                        "Requirement already satisfied: urllib3<1.27,>=1.21.1 in /home/gitpod/.pyenv/versions/3.8.13/lib/python3.8/site-packages (from requests>=2.4->streamlit) (1.26.11)\n",
                        "Requirement already satisfied: idna<4,>=2.5 in /home/gitpod/.pyenv/versions/3.8.13/lib/python3.8/site-packages (from requests>=2.4->streamlit) (3.3)\n",
                        "Requirement already satisfied: pygments<3.0.0,>=2.6.0 in /home/gitpod/.pyenv/versions/3.8.13/lib/python3.8/site-packages (from rich>=10.11.0->streamlit) (2.12.0)\n",
                        "Requirement already satisfied: commonmark<0.10.0,>=0.9.0 in /home/gitpod/.pyenv/versions/3.8.13/lib/python3.8/site-packages (from rich>=10.11.0->streamlit) (0.9.1)\n",
                        "Requirement already satisfied: pytz-deprecation-shim in /home/gitpod/.pyenv/versions/3.8.13/lib/python3.8/site-packages (from tzlocal>=1.1->streamlit) (0.1.0.post0)\n",
                        "Requirement already satisfied: backports.zoneinfo in /home/gitpod/.pyenv/versions/3.8.13/lib/python3.8/site-packages (from tzlocal>=1.1->streamlit) (0.2.1)\n",
                        "Requirement already satisfied: decorator>=3.4.0 in /home/gitpod/.pyenv/versions/3.8.13/lib/python3.8/site-packages (from validators>=0.2->streamlit) (5.1.1)\n",
                        "Requirement already satisfied: smmap<6,>=3.0.1 in /home/gitpod/.pyenv/versions/3.8.13/lib/python3.8/site-packages (from gitdb<5,>=4.0.1->gitpython!=3.1.19->streamlit) (5.0.0)\n",
                        "Requirement already satisfied: psutil in /home/gitpod/.pyenv/versions/3.8.13/lib/python3.8/site-packages (from ipykernel>=5.1.2->pydeck>=0.1.dev5->streamlit) (5.9.1)\n",
                        "Requirement already satisfied: jupyter-client>=6.1.12 in /home/gitpod/.pyenv/versions/3.8.13/lib/python3.8/site-packages (from ipykernel>=5.1.2->pydeck>=0.1.dev5->streamlit) (7.3.4)\n",
                        "Requirement already satisfied: pyzmq>=17 in /home/gitpod/.pyenv/versions/3.8.13/lib/python3.8/site-packages (from ipykernel>=5.1.2->pydeck>=0.1.dev5->streamlit) (23.2.0)\n",
                        "Requirement already satisfied: ipython>=7.23.1 in /home/gitpod/.pyenv/versions/3.8.13/lib/python3.8/site-packages (from ipykernel>=5.1.2->pydeck>=0.1.dev5->streamlit) (8.4.0)\n",
                        "Requirement already satisfied: nest-asyncio in /home/gitpod/.pyenv/versions/3.8.13/lib/python3.8/site-packages (from ipykernel>=5.1.2->pydeck>=0.1.dev5->streamlit) (1.5.5)\n",
                        "Requirement already satisfied: matplotlib-inline>=0.1 in /home/gitpod/.pyenv/versions/3.8.13/lib/python3.8/site-packages (from ipykernel>=5.1.2->pydeck>=0.1.dev5->streamlit) (0.1.3)\n",
                        "Requirement already satisfied: debugpy>=1.0 in /home/gitpod/.pyenv/versions/3.8.13/lib/python3.8/site-packages (from ipykernel>=5.1.2->pydeck>=0.1.dev5->streamlit) (1.6.2)\n",
                        "Requirement already satisfied: widgetsnbextension~=3.6.0 in /home/gitpod/.pyenv/versions/3.8.13/lib/python3.8/site-packages (from ipywidgets>=7.0.0->pydeck>=0.1.dev5->streamlit) (3.6.1)\n",
                        "Requirement already satisfied: ipython-genutils~=0.2.0 in /home/gitpod/.pyenv/versions/3.8.13/lib/python3.8/site-packages (from ipywidgets>=7.0.0->pydeck>=0.1.dev5->streamlit) (0.2.0)\n",
                        "Requirement already satisfied: jupyterlab-widgets>=1.0.0 in /home/gitpod/.pyenv/versions/3.8.13/lib/python3.8/site-packages (from ipywidgets>=7.0.0->pydeck>=0.1.dev5->streamlit) (1.1.1)\n",
                        "Requirement already satisfied: MarkupSafe>=2.0 in /home/gitpod/.pyenv/versions/3.8.13/lib/python3.8/site-packages (from jinja2->altair>=3.2.0->streamlit) (2.1.1)\n",
                        "Requirement already satisfied: attrs>=17.4.0 in /home/gitpod/.pyenv/versions/3.8.13/lib/python3.8/site-packages (from jsonschema>=3.0->altair>=3.2.0->streamlit) (21.4.0)\n",
                        "Requirement already satisfied: pyrsistent!=0.17.0,!=0.17.1,!=0.17.2,>=0.14.0 in /home/gitpod/.pyenv/versions/3.8.13/lib/python3.8/site-packages (from jsonschema>=3.0->altair>=3.2.0->streamlit) (0.18.1)\n",
                        "Requirement already satisfied: importlib-resources>=1.4.0 in /home/gitpod/.pyenv/versions/3.8.13/lib/python3.8/site-packages (from jsonschema>=3.0->altair>=3.2.0->streamlit) (5.9.0)\n",
                        "Requirement already satisfied: tzdata in /home/gitpod/.pyenv/versions/3.8.13/lib/python3.8/site-packages (from pytz-deprecation-shim->tzlocal>=1.1->streamlit) (2022.2)\n",
                        "Requirement already satisfied: jedi>=0.16 in /home/gitpod/.pyenv/versions/3.8.13/lib/python3.8/site-packages (from ipython>=7.23.1->ipykernel>=5.1.2->pydeck>=0.1.dev5->streamlit) (0.18.1)\n",
                        "Requirement already satisfied: stack-data in /home/gitpod/.pyenv/versions/3.8.13/lib/python3.8/site-packages (from ipython>=7.23.1->ipykernel>=5.1.2->pydeck>=0.1.dev5->streamlit) (0.3.0)\n",
                        "Requirement already satisfied: backcall in /home/gitpod/.pyenv/versions/3.8.13/lib/python3.8/site-packages (from ipython>=7.23.1->ipykernel>=5.1.2->pydeck>=0.1.dev5->streamlit) (0.2.0)\n",
                        "Requirement already satisfied: pickleshare in /home/gitpod/.pyenv/versions/3.8.13/lib/python3.8/site-packages (from ipython>=7.23.1->ipykernel>=5.1.2->pydeck>=0.1.dev5->streamlit) (0.7.5)\n",
                        "Requirement already satisfied: pexpect>4.3 in /home/gitpod/.pyenv/versions/3.8.13/lib/python3.8/site-packages (from ipython>=7.23.1->ipykernel>=5.1.2->pydeck>=0.1.dev5->streamlit) (4.8.0)\n",
                        "Requirement already satisfied: prompt-toolkit!=3.0.0,!=3.0.1,<3.1.0,>=2.0.0 in /home/gitpod/.pyenv/versions/3.8.13/lib/python3.8/site-packages (from ipython>=7.23.1->ipykernel>=5.1.2->pydeck>=0.1.dev5->streamlit) (3.0.30)\n",
                        "Requirement already satisfied: setuptools>=18.5 in /home/gitpod/.pyenv/versions/3.8.13/lib/python3.8/site-packages (from ipython>=7.23.1->ipykernel>=5.1.2->pydeck>=0.1.dev5->streamlit) (63.2.0)\n",
                        "Requirement already satisfied: jupyter-core>=4.9.2 in /home/gitpod/.pyenv/versions/3.8.13/lib/python3.8/site-packages (from jupyter-client>=6.1.12->ipykernel>=5.1.2->pydeck>=0.1.dev5->streamlit) (4.11.1)\n",
                        "Requirement already satisfied: notebook>=4.4.1 in /home/gitpod/.pyenv/versions/3.8.13/lib/python3.8/site-packages (from widgetsnbextension~=3.6.0->ipywidgets>=7.0.0->pydeck>=0.1.dev5->streamlit) (6.4.12)\n",
                        "Requirement already satisfied: parso<0.9.0,>=0.8.0 in /home/gitpod/.pyenv/versions/3.8.13/lib/python3.8/site-packages (from jedi>=0.16->ipython>=7.23.1->ipykernel>=5.1.2->pydeck>=0.1.dev5->streamlit) (0.8.3)\n",
                        "Requirement already satisfied: terminado>=0.8.3 in /home/gitpod/.pyenv/versions/3.8.13/lib/python3.8/site-packages (from notebook>=4.4.1->widgetsnbextension~=3.6.0->ipywidgets>=7.0.0->pydeck>=0.1.dev5->streamlit) (0.15.0)\n",
                        "Requirement already satisfied: argon2-cffi in /home/gitpod/.pyenv/versions/3.8.13/lib/python3.8/site-packages (from notebook>=4.4.1->widgetsnbextension~=3.6.0->ipywidgets>=7.0.0->pydeck>=0.1.dev5->streamlit) (21.3.0)\n",
                        "Requirement already satisfied: nbformat in /home/gitpod/.pyenv/versions/3.8.13/lib/python3.8/site-packages (from notebook>=4.4.1->widgetsnbextension~=3.6.0->ipywidgets>=7.0.0->pydeck>=0.1.dev5->streamlit) (5.4.0)\n",
                        "Requirement already satisfied: nbconvert>=5 in /home/gitpod/.pyenv/versions/3.8.13/lib/python3.8/site-packages (from notebook>=4.4.1->widgetsnbextension~=3.6.0->ipywidgets>=7.0.0->pydeck>=0.1.dev5->streamlit) (6.5.0)\n",
                        "Requirement already satisfied: Send2Trash>=1.8.0 in /home/gitpod/.pyenv/versions/3.8.13/lib/python3.8/site-packages (from notebook>=4.4.1->widgetsnbextension~=3.6.0->ipywidgets>=7.0.0->pydeck>=0.1.dev5->streamlit) (1.8.0)\n",
                        "Requirement already satisfied: prometheus-client in /home/gitpod/.pyenv/versions/3.8.13/lib/python3.8/site-packages (from notebook>=4.4.1->widgetsnbextension~=3.6.0->ipywidgets>=7.0.0->pydeck>=0.1.dev5->streamlit) (0.14.1)\n",
                        "Requirement already satisfied: ptyprocess>=0.5 in /home/gitpod/.pyenv/versions/3.8.13/lib/python3.8/site-packages (from pexpect>4.3->ipython>=7.23.1->ipykernel>=5.1.2->pydeck>=0.1.dev5->streamlit) (0.7.0)\n",
                        "Requirement already satisfied: wcwidth in /home/gitpod/.pyenv/versions/3.8.13/lib/python3.8/site-packages (from prompt-toolkit!=3.0.0,!=3.0.1,<3.1.0,>=2.0.0->ipython>=7.23.1->ipykernel>=5.1.2->pydeck>=0.1.dev5->streamlit) (0.2.5)\n",
                        "Requirement already satisfied: asttokens in /home/gitpod/.pyenv/versions/3.8.13/lib/python3.8/site-packages (from stack-data->ipython>=7.23.1->ipykernel>=5.1.2->pydeck>=0.1.dev5->streamlit) (2.0.5)\n",
                        "Requirement already satisfied: executing in /home/gitpod/.pyenv/versions/3.8.13/lib/python3.8/site-packages (from stack-data->ipython>=7.23.1->ipykernel>=5.1.2->pydeck>=0.1.dev5->streamlit) (0.9.0)\n",
                        "Requirement already satisfied: pure-eval in /home/gitpod/.pyenv/versions/3.8.13/lib/python3.8/site-packages (from stack-data->ipython>=7.23.1->ipykernel>=5.1.2->pydeck>=0.1.dev5->streamlit) (0.2.2)\n",
                        "Requirement already satisfied: nbclient>=0.5.0 in /home/gitpod/.pyenv/versions/3.8.13/lib/python3.8/site-packages (from nbconvert>=5->notebook>=4.4.1->widgetsnbextension~=3.6.0->ipywidgets>=7.0.0->pydeck>=0.1.dev5->streamlit) (0.6.6)\n",
                        "Requirement already satisfied: tinycss2 in /home/gitpod/.pyenv/versions/3.8.13/lib/python3.8/site-packages (from nbconvert>=5->notebook>=4.4.1->widgetsnbextension~=3.6.0->ipywidgets>=7.0.0->pydeck>=0.1.dev5->streamlit) (1.1.1)\n",
                        "Requirement already satisfied: jupyterlab-pygments in /home/gitpod/.pyenv/versions/3.8.13/lib/python3.8/site-packages (from nbconvert>=5->notebook>=4.4.1->widgetsnbextension~=3.6.0->ipywidgets>=7.0.0->pydeck>=0.1.dev5->streamlit) (0.2.2)\n",
                        "Requirement already satisfied: pandocfilters>=1.4.1 in /home/gitpod/.pyenv/versions/3.8.13/lib/python3.8/site-packages (from nbconvert>=5->notebook>=4.4.1->widgetsnbextension~=3.6.0->ipywidgets>=7.0.0->pydeck>=0.1.dev5->streamlit) (1.5.0)\n",
                        "Requirement already satisfied: defusedxml in /home/gitpod/.pyenv/versions/3.8.13/lib/python3.8/site-packages (from nbconvert>=5->notebook>=4.4.1->widgetsnbextension~=3.6.0->ipywidgets>=7.0.0->pydeck>=0.1.dev5->streamlit) (0.7.1)\n",
                        "Requirement already satisfied: bleach in /home/gitpod/.pyenv/versions/3.8.13/lib/python3.8/site-packages (from nbconvert>=5->notebook>=4.4.1->widgetsnbextension~=3.6.0->ipywidgets>=7.0.0->pydeck>=0.1.dev5->streamlit) (5.0.1)\n",
                        "Requirement already satisfied: beautifulsoup4 in /home/gitpod/.pyenv/versions/3.8.13/lib/python3.8/site-packages (from nbconvert>=5->notebook>=4.4.1->widgetsnbextension~=3.6.0->ipywidgets>=7.0.0->pydeck>=0.1.dev5->streamlit) (4.11.1)\n",
                        "Requirement already satisfied: mistune<2,>=0.8.1 in /home/gitpod/.pyenv/versions/3.8.13/lib/python3.8/site-packages (from nbconvert>=5->notebook>=4.4.1->widgetsnbextension~=3.6.0->ipywidgets>=7.0.0->pydeck>=0.1.dev5->streamlit) (0.8.4)\n",
                        "Requirement already satisfied: fastjsonschema in /home/gitpod/.pyenv/versions/3.8.13/lib/python3.8/site-packages (from nbformat->notebook>=4.4.1->widgetsnbextension~=3.6.0->ipywidgets>=7.0.0->pydeck>=0.1.dev5->streamlit) (2.16.1)\n",
                        "Requirement already satisfied: argon2-cffi-bindings in /home/gitpod/.pyenv/versions/3.8.13/lib/python3.8/site-packages (from argon2-cffi->notebook>=4.4.1->widgetsnbextension~=3.6.0->ipywidgets>=7.0.0->pydeck>=0.1.dev5->streamlit) (21.2.0)\n",
                        "Requirement already satisfied: cffi>=1.0.1 in /home/gitpod/.pyenv/versions/3.8.13/lib/python3.8/site-packages (from argon2-cffi-bindings->argon2-cffi->notebook>=4.4.1->widgetsnbextension~=3.6.0->ipywidgets>=7.0.0->pydeck>=0.1.dev5->streamlit) (1.15.1)\n",
                        "Requirement already satisfied: soupsieve>1.2 in /home/gitpod/.pyenv/versions/3.8.13/lib/python3.8/site-packages (from beautifulsoup4->nbconvert>=5->notebook>=4.4.1->widgetsnbextension~=3.6.0->ipywidgets>=7.0.0->pydeck>=0.1.dev5->streamlit) (2.3.2.post1)\n",
                        "Requirement already satisfied: webencodings in /home/gitpod/.pyenv/versions/3.8.13/lib/python3.8/site-packages (from bleach->nbconvert>=5->notebook>=4.4.1->widgetsnbextension~=3.6.0->ipywidgets>=7.0.0->pydeck>=0.1.dev5->streamlit) (0.5.1)\n",
                        "Requirement already satisfied: pycparser in /home/gitpod/.pyenv/versions/3.8.13/lib/python3.8/site-packages (from cffi>=1.0.1->argon2-cffi-bindings->argon2-cffi->notebook>=4.4.1->widgetsnbextension~=3.6.0->ipywidgets>=7.0.0->pydeck>=0.1.dev5->streamlit) (2.21)\n",
                        "\n",
                        "\u001b[1m[\u001b[0m\u001b[34;49mnotice\u001b[0m\u001b[1;39;49m]\u001b[0m\u001b[39;49m A new release of pip available: \u001b[0m\u001b[31;49m22.2\u001b[0m\u001b[39;49m -> \u001b[0m\u001b[32;49m22.2.2\u001b[0m\n",
                        "\u001b[1m[\u001b[0m\u001b[34;49mnotice\u001b[0m\u001b[1;39;49m]\u001b[0m\u001b[39;49m To update, run: \u001b[0m\u001b[32;49mpip install --upgrade pip\u001b[0m\n"
                    ]
                }
            ],
            "source": [
                "# instalo\n",
                "!pip install --upgrade streamlit"
            ]
        },
        {
            "cell_type": "code",
            "execution_count": 2,
            "metadata": {},
            "outputs": [],
            "source": [
                "# importo\n",
                "import streamlit as st\n",
                "import pickle"
            ]
        },
        {
            "cell_type": "code",
            "execution_count": null,
            "metadata": {},
            "outputs": [],
            "source": [
                "# Example importing the CSV here\n",
                "\n",
                "# dataframe = pd.read_csv('../path/to/file.csv')\n",
                "# dataframe.describe()"
            ]
        }
    ],
    "metadata": {
        "kernelspec": {
            "display_name": "Python 3.8.13 64-bit ('3.8.13')",
            "language": "python",
            "name": "python3"
        },
        "language_info": {
            "codemirror_mode": {
                "name": "ipython",
                "version": 3
            },
            "file_extension": ".py",
            "mimetype": "text/x-python",
            "name": "python",
            "nbconvert_exporter": "python",
            "pygments_lexer": "ipython3",
            "version": "3.8.13"
        },
        "orig_nbformat": 4,
        "vscode": {
            "interpreter": {
                "hash": "110cc1dee26208153f2972f08a2ad52b6a56238dc66d48e87fb757ef2996db56"
            }
        }
    },
    "nbformat": 4,
    "nbformat_minor": 2
}
